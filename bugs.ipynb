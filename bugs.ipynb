{
 "cells": [
  {
   "cell_type": "markdown",
   "metadata": {
    "slideshow": {
     "slide_type": "slide"
    }
   },
   "source": [
    "# Scraping with Pandas"
   ]
  },
  {
   "cell_type": "code",
   "execution_count": 1,
   "metadata": {
    "slideshow": {
     "slide_type": "slide"
    }
   },
   "outputs": [],
   "source": [
    "import pandas as pd"
   ]
  },
  {
   "cell_type": "markdown",
   "metadata": {
    "slideshow": {
     "slide_type": "subslide"
    }
   },
   "source": [
    "We can use the `read_html` function in Pandas to automatically scrape any tabular data from a page."
   ]
  },
  {
   "cell_type": "code",
   "execution_count": 2,
   "metadata": {
    "slideshow": {
     "slide_type": "fragment"
    }
   },
   "outputs": [],
   "source": [
    "url = 'https://animalcrossing.fandom.com/wiki/Bugs_(New_Horizons)'"
   ]
  },
  {
   "cell_type": "code",
   "execution_count": 5,
   "metadata": {
    "slideshow": {
     "slide_type": "fragment"
    }
   },
   "outputs": [
    {
     "data": {
      "text/html": [
       "<div>\n",
       "<style scoped>\n",
       "    .dataframe tbody tr th:only-of-type {\n",
       "        vertical-align: middle;\n",
       "    }\n",
       "\n",
       "    .dataframe tbody tr th {\n",
       "        vertical-align: top;\n",
       "    }\n",
       "\n",
       "    .dataframe thead th {\n",
       "        text-align: right;\n",
       "    }\n",
       "</style>\n",
       "<table border=\"1\" class=\"dataframe\">\n",
       "  <thead>\n",
       "    <tr style=\"text-align: right;\">\n",
       "      <th></th>\n",
       "      <th>Name</th>\n",
       "      <th>Image</th>\n",
       "      <th>Price</th>\n",
       "      <th>Location</th>\n",
       "      <th>Time</th>\n",
       "      <th>Jan</th>\n",
       "      <th>Feb</th>\n",
       "      <th>Mar</th>\n",
       "      <th>Apr</th>\n",
       "      <th>May</th>\n",
       "      <th>Jun</th>\n",
       "      <th>Jul</th>\n",
       "      <th>Aug</th>\n",
       "      <th>Sep</th>\n",
       "      <th>Oct</th>\n",
       "      <th>Nov</th>\n",
       "      <th>Dec</th>\n",
       "    </tr>\n",
       "  </thead>\n",
       "  <tbody>\n",
       "    <tr>\n",
       "      <td>0</td>\n",
       "      <td>Common butterfly</td>\n",
       "      <td>NaN</td>\n",
       "      <td>160</td>\n",
       "      <td>Flying</td>\n",
       "      <td>4 AM - 7 PM</td>\n",
       "      <td>✓</td>\n",
       "      <td>✓</td>\n",
       "      <td>✓</td>\n",
       "      <td>✓</td>\n",
       "      <td>✓</td>\n",
       "      <td>✓</td>\n",
       "      <td>-</td>\n",
       "      <td>-</td>\n",
       "      <td>✓</td>\n",
       "      <td>✓</td>\n",
       "      <td>✓</td>\n",
       "      <td>✓</td>\n",
       "    </tr>\n",
       "    <tr>\n",
       "      <td>1</td>\n",
       "      <td>Yellow butterfly</td>\n",
       "      <td>NaN</td>\n",
       "      <td>160</td>\n",
       "      <td>Flying</td>\n",
       "      <td>4 AM - 7 PM</td>\n",
       "      <td>-</td>\n",
       "      <td>-</td>\n",
       "      <td>✓</td>\n",
       "      <td>✓</td>\n",
       "      <td>✓</td>\n",
       "      <td>✓</td>\n",
       "      <td>-</td>\n",
       "      <td>-</td>\n",
       "      <td>✓</td>\n",
       "      <td>✓</td>\n",
       "      <td>-</td>\n",
       "      <td>-</td>\n",
       "    </tr>\n",
       "    <tr>\n",
       "      <td>2</td>\n",
       "      <td>Tiger butterfly</td>\n",
       "      <td>NaN</td>\n",
       "      <td>240</td>\n",
       "      <td>Flying</td>\n",
       "      <td>4 AM - 7 PM</td>\n",
       "      <td>-</td>\n",
       "      <td>-</td>\n",
       "      <td>✓</td>\n",
       "      <td>✓</td>\n",
       "      <td>✓</td>\n",
       "      <td>✓</td>\n",
       "      <td>✓</td>\n",
       "      <td>✓</td>\n",
       "      <td>✓</td>\n",
       "      <td>-</td>\n",
       "      <td>-</td>\n",
       "      <td>-</td>\n",
       "    </tr>\n",
       "    <tr>\n",
       "      <td>3</td>\n",
       "      <td>Peacock butterfly</td>\n",
       "      <td>NaN</td>\n",
       "      <td>2500</td>\n",
       "      <td>Flying by Hybrid Flowers</td>\n",
       "      <td>4 AM - 7 PM</td>\n",
       "      <td>-</td>\n",
       "      <td>-</td>\n",
       "      <td>✓</td>\n",
       "      <td>✓</td>\n",
       "      <td>✓</td>\n",
       "      <td>✓</td>\n",
       "      <td>-</td>\n",
       "      <td>-</td>\n",
       "      <td>-</td>\n",
       "      <td>-</td>\n",
       "      <td>-</td>\n",
       "      <td>-</td>\n",
       "    </tr>\n",
       "    <tr>\n",
       "      <td>4</td>\n",
       "      <td>Common bluebottle</td>\n",
       "      <td>NaN</td>\n",
       "      <td>300</td>\n",
       "      <td>Flying</td>\n",
       "      <td>4 AM - 7 PM</td>\n",
       "      <td>-</td>\n",
       "      <td>-</td>\n",
       "      <td>-</td>\n",
       "      <td>✓</td>\n",
       "      <td>✓</td>\n",
       "      <td>✓</td>\n",
       "      <td>✓</td>\n",
       "      <td>✓</td>\n",
       "      <td>-</td>\n",
       "      <td>-</td>\n",
       "      <td>-</td>\n",
       "      <td>-</td>\n",
       "    </tr>\n",
       "    <tr>\n",
       "      <td>...</td>\n",
       "      <td>...</td>\n",
       "      <td>...</td>\n",
       "      <td>...</td>\n",
       "      <td>...</td>\n",
       "      <td>...</td>\n",
       "      <td>...</td>\n",
       "      <td>...</td>\n",
       "      <td>...</td>\n",
       "      <td>...</td>\n",
       "      <td>...</td>\n",
       "      <td>...</td>\n",
       "      <td>...</td>\n",
       "      <td>...</td>\n",
       "      <td>...</td>\n",
       "      <td>...</td>\n",
       "      <td>...</td>\n",
       "      <td>...</td>\n",
       "    </tr>\n",
       "    <tr>\n",
       "      <td>75</td>\n",
       "      <td>Pill bug</td>\n",
       "      <td>NaN</td>\n",
       "      <td>250</td>\n",
       "      <td>Hitting Rocks</td>\n",
       "      <td>11 PM - 4 PM</td>\n",
       "      <td>✓</td>\n",
       "      <td>✓</td>\n",
       "      <td>✓</td>\n",
       "      <td>✓</td>\n",
       "      <td>✓</td>\n",
       "      <td>✓</td>\n",
       "      <td>-</td>\n",
       "      <td>-</td>\n",
       "      <td>✓</td>\n",
       "      <td>✓</td>\n",
       "      <td>✓</td>\n",
       "      <td>✓</td>\n",
       "    </tr>\n",
       "    <tr>\n",
       "      <td>76</td>\n",
       "      <td>Centipede</td>\n",
       "      <td>NaN</td>\n",
       "      <td>300</td>\n",
       "      <td>Hitting Rocks</td>\n",
       "      <td>4 PM - 11 PM</td>\n",
       "      <td>✓</td>\n",
       "      <td>✓</td>\n",
       "      <td>✓</td>\n",
       "      <td>✓</td>\n",
       "      <td>✓</td>\n",
       "      <td>✓</td>\n",
       "      <td>-</td>\n",
       "      <td>-</td>\n",
       "      <td>✓</td>\n",
       "      <td>✓</td>\n",
       "      <td>✓</td>\n",
       "      <td>✓</td>\n",
       "    </tr>\n",
       "    <tr>\n",
       "      <td>77</td>\n",
       "      <td>Spider</td>\n",
       "      <td>NaN</td>\n",
       "      <td>600</td>\n",
       "      <td>Shaking Trees</td>\n",
       "      <td>7 PM - 8 AM</td>\n",
       "      <td>✓</td>\n",
       "      <td>✓</td>\n",
       "      <td>✓</td>\n",
       "      <td>✓</td>\n",
       "      <td>✓</td>\n",
       "      <td>✓</td>\n",
       "      <td>✓</td>\n",
       "      <td>✓</td>\n",
       "      <td>✓</td>\n",
       "      <td>✓</td>\n",
       "      <td>✓</td>\n",
       "      <td>✓</td>\n",
       "    </tr>\n",
       "    <tr>\n",
       "      <td>78</td>\n",
       "      <td>Tarantula</td>\n",
       "      <td>NaN</td>\n",
       "      <td>8000</td>\n",
       "      <td>On the Ground</td>\n",
       "      <td>7 PM - 4 AM</td>\n",
       "      <td>✓</td>\n",
       "      <td>✓</td>\n",
       "      <td>✓</td>\n",
       "      <td>✓</td>\n",
       "      <td>-</td>\n",
       "      <td>-</td>\n",
       "      <td>-</td>\n",
       "      <td>-</td>\n",
       "      <td>-</td>\n",
       "      <td>-</td>\n",
       "      <td>✓</td>\n",
       "      <td>✓</td>\n",
       "    </tr>\n",
       "    <tr>\n",
       "      <td>79</td>\n",
       "      <td>Scorpion</td>\n",
       "      <td>NaN</td>\n",
       "      <td>8000</td>\n",
       "      <td>On the Ground</td>\n",
       "      <td>7 PM - 4 AM</td>\n",
       "      <td>-</td>\n",
       "      <td>-</td>\n",
       "      <td>-</td>\n",
       "      <td>-</td>\n",
       "      <td>✓</td>\n",
       "      <td>✓</td>\n",
       "      <td>✓</td>\n",
       "      <td>✓</td>\n",
       "      <td>✓</td>\n",
       "      <td>✓</td>\n",
       "      <td>-</td>\n",
       "      <td>-</td>\n",
       "    </tr>\n",
       "  </tbody>\n",
       "</table>\n",
       "<p>80 rows × 17 columns</p>\n",
       "</div>"
      ],
      "text/plain": [
       "                 Name  Image  Price                  Location          Time  \\\n",
       "0    Common butterfly    NaN    160                    Flying   4 AM - 7 PM   \n",
       "1    Yellow butterfly    NaN    160                    Flying   4 AM - 7 PM   \n",
       "2     Tiger butterfly    NaN    240                    Flying   4 AM - 7 PM   \n",
       "3   Peacock butterfly    NaN   2500  Flying by Hybrid Flowers   4 AM - 7 PM   \n",
       "4   Common bluebottle    NaN    300                    Flying   4 AM - 7 PM   \n",
       "..                ...    ...    ...                       ...           ...   \n",
       "75           Pill bug    NaN    250             Hitting Rocks  11 PM - 4 PM   \n",
       "76          Centipede    NaN    300             Hitting Rocks  4 PM - 11 PM   \n",
       "77             Spider    NaN    600             Shaking Trees   7 PM - 8 AM   \n",
       "78          Tarantula    NaN   8000             On the Ground   7 PM - 4 AM   \n",
       "79           Scorpion    NaN   8000             On the Ground   7 PM - 4 AM   \n",
       "\n",
       "   Jan Feb Mar Apr May Jun Jul Aug Sep Oct Nov Dec  \n",
       "0    ✓   ✓   ✓   ✓   ✓   ✓   -   -   ✓   ✓   ✓   ✓  \n",
       "1    -   -   ✓   ✓   ✓   ✓   -   -   ✓   ✓   -   -  \n",
       "2    -   -   ✓   ✓   ✓   ✓   ✓   ✓   ✓   -   -   -  \n",
       "3    -   -   ✓   ✓   ✓   ✓   -   -   -   -   -   -  \n",
       "4    -   -   -   ✓   ✓   ✓   ✓   ✓   -   -   -   -  \n",
       "..  ..  ..  ..  ..  ..  ..  ..  ..  ..  ..  ..  ..  \n",
       "75   ✓   ✓   ✓   ✓   ✓   ✓   -   -   ✓   ✓   ✓   ✓  \n",
       "76   ✓   ✓   ✓   ✓   ✓   ✓   -   -   ✓   ✓   ✓   ✓  \n",
       "77   ✓   ✓   ✓   ✓   ✓   ✓   ✓   ✓   ✓   ✓   ✓   ✓  \n",
       "78   ✓   ✓   ✓   ✓   -   -   -   -   -   -   ✓   ✓  \n",
       "79   -   -   -   -   ✓   ✓   ✓   ✓   ✓   ✓   -   -  \n",
       "\n",
       "[80 rows x 17 columns]"
      ]
     },
     "execution_count": 5,
     "metadata": {},
     "output_type": "execute_result"
    }
   ],
   "source": [
    "tables = pd.read_html(url)\n",
    "tables[3]"
   ]
  },
  {
   "cell_type": "markdown",
   "metadata": {
    "slideshow": {
     "slide_type": "subslide"
    }
   },
   "source": [
    "What we get in return is a list of dataframes for any tabular data that Pandas found."
   ]
  },
  {
   "cell_type": "code",
   "execution_count": 6,
   "metadata": {
    "slideshow": {
     "slide_type": "fragment"
    }
   },
   "outputs": [
    {
     "data": {
      "text/plain": [
       "list"
      ]
     },
     "execution_count": 6,
     "metadata": {},
     "output_type": "execute_result"
    }
   ],
   "source": [
    "type(tables)"
   ]
  },
  {
   "cell_type": "markdown",
   "metadata": {
    "slideshow": {
     "slide_type": "subslide"
    }
   },
   "source": [
    "We can slice off any of those dataframes that we want using normal indexing."
   ]
  },
  {
   "cell_type": "code",
   "execution_count": 7,
   "metadata": {
    "scrolled": true,
    "slideshow": {
     "slide_type": "fragment"
    }
   },
   "outputs": [
    {
     "data": {
      "text/html": [
       "<div>\n",
       "<style scoped>\n",
       "    .dataframe tbody tr th:only-of-type {\n",
       "        vertical-align: middle;\n",
       "    }\n",
       "\n",
       "    .dataframe tbody tr th {\n",
       "        vertical-align: top;\n",
       "    }\n",
       "\n",
       "    .dataframe thead th {\n",
       "        text-align: right;\n",
       "    }\n",
       "</style>\n",
       "<table border=\"1\" class=\"dataframe\">\n",
       "  <thead>\n",
       "    <tr style=\"text-align: right;\">\n",
       "      <th></th>\n",
       "      <th>Name</th>\n",
       "      <th>Image</th>\n",
       "      <th>Price</th>\n",
       "      <th>Location</th>\n",
       "      <th>Time</th>\n",
       "      <th>Jan</th>\n",
       "      <th>Feb</th>\n",
       "      <th>Mar</th>\n",
       "      <th>Apr</th>\n",
       "      <th>May</th>\n",
       "      <th>Jun</th>\n",
       "      <th>Jul</th>\n",
       "      <th>Aug</th>\n",
       "      <th>Sep</th>\n",
       "      <th>Oct</th>\n",
       "      <th>Nov</th>\n",
       "      <th>Dec</th>\n",
       "    </tr>\n",
       "  </thead>\n",
       "  <tbody>\n",
       "    <tr>\n",
       "      <td>0</td>\n",
       "      <td>Common butterfly</td>\n",
       "      <td>NaN</td>\n",
       "      <td>160</td>\n",
       "      <td>Flying</td>\n",
       "      <td>4 AM - 7 PM</td>\n",
       "      <td>✓</td>\n",
       "      <td>✓</td>\n",
       "      <td>✓</td>\n",
       "      <td>✓</td>\n",
       "      <td>✓</td>\n",
       "      <td>✓</td>\n",
       "      <td>-</td>\n",
       "      <td>-</td>\n",
       "      <td>✓</td>\n",
       "      <td>✓</td>\n",
       "      <td>✓</td>\n",
       "      <td>✓</td>\n",
       "    </tr>\n",
       "    <tr>\n",
       "      <td>1</td>\n",
       "      <td>Yellow butterfly</td>\n",
       "      <td>NaN</td>\n",
       "      <td>160</td>\n",
       "      <td>Flying</td>\n",
       "      <td>4 AM - 7 PM</td>\n",
       "      <td>-</td>\n",
       "      <td>-</td>\n",
       "      <td>✓</td>\n",
       "      <td>✓</td>\n",
       "      <td>✓</td>\n",
       "      <td>✓</td>\n",
       "      <td>-</td>\n",
       "      <td>-</td>\n",
       "      <td>✓</td>\n",
       "      <td>✓</td>\n",
       "      <td>-</td>\n",
       "      <td>-</td>\n",
       "    </tr>\n",
       "    <tr>\n",
       "      <td>2</td>\n",
       "      <td>Tiger butterfly</td>\n",
       "      <td>NaN</td>\n",
       "      <td>240</td>\n",
       "      <td>Flying</td>\n",
       "      <td>4 AM - 7 PM</td>\n",
       "      <td>-</td>\n",
       "      <td>-</td>\n",
       "      <td>✓</td>\n",
       "      <td>✓</td>\n",
       "      <td>✓</td>\n",
       "      <td>✓</td>\n",
       "      <td>✓</td>\n",
       "      <td>✓</td>\n",
       "      <td>✓</td>\n",
       "      <td>-</td>\n",
       "      <td>-</td>\n",
       "      <td>-</td>\n",
       "    </tr>\n",
       "    <tr>\n",
       "      <td>3</td>\n",
       "      <td>Peacock butterfly</td>\n",
       "      <td>NaN</td>\n",
       "      <td>2500</td>\n",
       "      <td>Flying by Hybrid Flowers</td>\n",
       "      <td>4 AM - 7 PM</td>\n",
       "      <td>-</td>\n",
       "      <td>-</td>\n",
       "      <td>✓</td>\n",
       "      <td>✓</td>\n",
       "      <td>✓</td>\n",
       "      <td>✓</td>\n",
       "      <td>-</td>\n",
       "      <td>-</td>\n",
       "      <td>-</td>\n",
       "      <td>-</td>\n",
       "      <td>-</td>\n",
       "      <td>-</td>\n",
       "    </tr>\n",
       "    <tr>\n",
       "      <td>4</td>\n",
       "      <td>Common bluebottle</td>\n",
       "      <td>NaN</td>\n",
       "      <td>300</td>\n",
       "      <td>Flying</td>\n",
       "      <td>4 AM - 7 PM</td>\n",
       "      <td>-</td>\n",
       "      <td>-</td>\n",
       "      <td>-</td>\n",
       "      <td>✓</td>\n",
       "      <td>✓</td>\n",
       "      <td>✓</td>\n",
       "      <td>✓</td>\n",
       "      <td>✓</td>\n",
       "      <td>-</td>\n",
       "      <td>-</td>\n",
       "      <td>-</td>\n",
       "      <td>-</td>\n",
       "    </tr>\n",
       "  </tbody>\n",
       "</table>\n",
       "</div>"
      ],
      "text/plain": [
       "                Name  Image  Price                  Location         Time Jan  \\\n",
       "0   Common butterfly    NaN    160                    Flying  4 AM - 7 PM   ✓   \n",
       "1   Yellow butterfly    NaN    160                    Flying  4 AM - 7 PM   -   \n",
       "2    Tiger butterfly    NaN    240                    Flying  4 AM - 7 PM   -   \n",
       "3  Peacock butterfly    NaN   2500  Flying by Hybrid Flowers  4 AM - 7 PM   -   \n",
       "4  Common bluebottle    NaN    300                    Flying  4 AM - 7 PM   -   \n",
       "\n",
       "  Feb Mar Apr May Jun Jul Aug Sep Oct Nov Dec  \n",
       "0   ✓   ✓   ✓   ✓   ✓   -   -   ✓   ✓   ✓   ✓  \n",
       "1   -   ✓   ✓   ✓   ✓   -   -   ✓   ✓   -   -  \n",
       "2   -   ✓   ✓   ✓   ✓   ✓   ✓   ✓   -   -   -  \n",
       "3   -   ✓   ✓   ✓   ✓   -   -   -   -   -   -  \n",
       "4   -   -   ✓   ✓   ✓   ✓   ✓   -   -   -   -  "
      ]
     },
     "execution_count": 7,
     "metadata": {},
     "output_type": "execute_result"
    }
   ],
   "source": [
    "df = tables[3]\n",
    "df.columns = ['Name','Image','Price','Location','Time','Jan','Feb','Mar','Apr','May','Jun','Jul','Aug','Sep','Oct','Nov','Dec']\n",
    "df.head()"
   ]
  },
  {
   "cell_type": "markdown",
   "metadata": {
    "slideshow": {
     "slide_type": "subslide"
    }
   },
   "source": [
    "Set the index to the `State` column"
   ]
  },
  {
   "cell_type": "code",
   "execution_count": 8,
   "metadata": {
    "slideshow": {
     "slide_type": "fragment"
    }
   },
   "outputs": [
    {
     "data": {
      "text/html": [
       "<div>\n",
       "<style scoped>\n",
       "    .dataframe tbody tr th:only-of-type {\n",
       "        vertical-align: middle;\n",
       "    }\n",
       "\n",
       "    .dataframe tbody tr th {\n",
       "        vertical-align: top;\n",
       "    }\n",
       "\n",
       "    .dataframe thead th {\n",
       "        text-align: right;\n",
       "    }\n",
       "</style>\n",
       "<table border=\"1\" class=\"dataframe\">\n",
       "  <thead>\n",
       "    <tr style=\"text-align: right;\">\n",
       "      <th></th>\n",
       "      <th>Image</th>\n",
       "      <th>Price</th>\n",
       "      <th>Location</th>\n",
       "      <th>Time</th>\n",
       "      <th>Jan</th>\n",
       "      <th>Feb</th>\n",
       "      <th>Mar</th>\n",
       "      <th>Apr</th>\n",
       "      <th>May</th>\n",
       "      <th>Jun</th>\n",
       "      <th>Jul</th>\n",
       "      <th>Aug</th>\n",
       "      <th>Sep</th>\n",
       "      <th>Oct</th>\n",
       "      <th>Nov</th>\n",
       "      <th>Dec</th>\n",
       "    </tr>\n",
       "    <tr>\n",
       "      <th>Name</th>\n",
       "      <th></th>\n",
       "      <th></th>\n",
       "      <th></th>\n",
       "      <th></th>\n",
       "      <th></th>\n",
       "      <th></th>\n",
       "      <th></th>\n",
       "      <th></th>\n",
       "      <th></th>\n",
       "      <th></th>\n",
       "      <th></th>\n",
       "      <th></th>\n",
       "      <th></th>\n",
       "      <th></th>\n",
       "      <th></th>\n",
       "      <th></th>\n",
       "    </tr>\n",
       "  </thead>\n",
       "  <tbody>\n",
       "    <tr>\n",
       "      <td>Common butterfly</td>\n",
       "      <td>NaN</td>\n",
       "      <td>160</td>\n",
       "      <td>Flying</td>\n",
       "      <td>4 AM - 7 PM</td>\n",
       "      <td>✓</td>\n",
       "      <td>✓</td>\n",
       "      <td>✓</td>\n",
       "      <td>✓</td>\n",
       "      <td>✓</td>\n",
       "      <td>✓</td>\n",
       "      <td>-</td>\n",
       "      <td>-</td>\n",
       "      <td>✓</td>\n",
       "      <td>✓</td>\n",
       "      <td>✓</td>\n",
       "      <td>✓</td>\n",
       "    </tr>\n",
       "    <tr>\n",
       "      <td>Yellow butterfly</td>\n",
       "      <td>NaN</td>\n",
       "      <td>160</td>\n",
       "      <td>Flying</td>\n",
       "      <td>4 AM - 7 PM</td>\n",
       "      <td>-</td>\n",
       "      <td>-</td>\n",
       "      <td>✓</td>\n",
       "      <td>✓</td>\n",
       "      <td>✓</td>\n",
       "      <td>✓</td>\n",
       "      <td>-</td>\n",
       "      <td>-</td>\n",
       "      <td>✓</td>\n",
       "      <td>✓</td>\n",
       "      <td>-</td>\n",
       "      <td>-</td>\n",
       "    </tr>\n",
       "    <tr>\n",
       "      <td>Tiger butterfly</td>\n",
       "      <td>NaN</td>\n",
       "      <td>240</td>\n",
       "      <td>Flying</td>\n",
       "      <td>4 AM - 7 PM</td>\n",
       "      <td>-</td>\n",
       "      <td>-</td>\n",
       "      <td>✓</td>\n",
       "      <td>✓</td>\n",
       "      <td>✓</td>\n",
       "      <td>✓</td>\n",
       "      <td>✓</td>\n",
       "      <td>✓</td>\n",
       "      <td>✓</td>\n",
       "      <td>-</td>\n",
       "      <td>-</td>\n",
       "      <td>-</td>\n",
       "    </tr>\n",
       "    <tr>\n",
       "      <td>Peacock butterfly</td>\n",
       "      <td>NaN</td>\n",
       "      <td>2500</td>\n",
       "      <td>Flying by Hybrid Flowers</td>\n",
       "      <td>4 AM - 7 PM</td>\n",
       "      <td>-</td>\n",
       "      <td>-</td>\n",
       "      <td>✓</td>\n",
       "      <td>✓</td>\n",
       "      <td>✓</td>\n",
       "      <td>✓</td>\n",
       "      <td>-</td>\n",
       "      <td>-</td>\n",
       "      <td>-</td>\n",
       "      <td>-</td>\n",
       "      <td>-</td>\n",
       "      <td>-</td>\n",
       "    </tr>\n",
       "    <tr>\n",
       "      <td>Common bluebottle</td>\n",
       "      <td>NaN</td>\n",
       "      <td>300</td>\n",
       "      <td>Flying</td>\n",
       "      <td>4 AM - 7 PM</td>\n",
       "      <td>-</td>\n",
       "      <td>-</td>\n",
       "      <td>-</td>\n",
       "      <td>✓</td>\n",
       "      <td>✓</td>\n",
       "      <td>✓</td>\n",
       "      <td>✓</td>\n",
       "      <td>✓</td>\n",
       "      <td>-</td>\n",
       "      <td>-</td>\n",
       "      <td>-</td>\n",
       "      <td>-</td>\n",
       "    </tr>\n",
       "  </tbody>\n",
       "</table>\n",
       "</div>"
      ],
      "text/plain": [
       "                   Image  Price                  Location         Time Jan  \\\n",
       "Name                                                                         \n",
       "Common butterfly     NaN    160                    Flying  4 AM - 7 PM   ✓   \n",
       "Yellow butterfly     NaN    160                    Flying  4 AM - 7 PM   -   \n",
       "Tiger butterfly      NaN    240                    Flying  4 AM - 7 PM   -   \n",
       "Peacock butterfly    NaN   2500  Flying by Hybrid Flowers  4 AM - 7 PM   -   \n",
       "Common bluebottle    NaN    300                    Flying  4 AM - 7 PM   -   \n",
       "\n",
       "                  Feb Mar Apr May Jun Jul Aug Sep Oct Nov Dec  \n",
       "Name                                                           \n",
       "Common butterfly    ✓   ✓   ✓   ✓   ✓   -   -   ✓   ✓   ✓   ✓  \n",
       "Yellow butterfly    -   ✓   ✓   ✓   ✓   -   -   ✓   ✓   -   -  \n",
       "Tiger butterfly     -   ✓   ✓   ✓   ✓   ✓   ✓   ✓   -   -   -  \n",
       "Peacock butterfly   -   ✓   ✓   ✓   ✓   -   -   -   -   -   -  \n",
       "Common bluebottle   -   -   ✓   ✓   ✓   ✓   ✓   -   -   -   -  "
      ]
     },
     "execution_count": 8,
     "metadata": {},
     "output_type": "execute_result"
    }
   ],
   "source": [
    "df.set_index('Name', inplace=True)\n",
    "df.head()"
   ]
  },
  {
   "cell_type": "code",
   "execution_count": 9,
   "metadata": {
    "slideshow": {
     "slide_type": "subslide"
    }
   },
   "outputs": [
    {
     "data": {
      "text/plain": [
       "Image                            NaN\n",
       "Price                           2500\n",
       "Location    Flying by Hybrid Flowers\n",
       "Time                     4 AM - 7 PM\n",
       "Jan                                -\n",
       "Feb                                -\n",
       "Mar                                ✓\n",
       "Apr                                ✓\n",
       "May                                ✓\n",
       "Jun                                ✓\n",
       "Jul                                -\n",
       "Aug                                -\n",
       "Sep                                -\n",
       "Oct                                -\n",
       "Nov                                -\n",
       "Dec                                -\n",
       "Name: Peacock butterfly, dtype: object"
      ]
     },
     "execution_count": 9,
     "metadata": {},
     "output_type": "execute_result"
    }
   ],
   "source": [
    "df.loc['Peacock butterfly']"
   ]
  },
  {
   "cell_type": "markdown",
   "metadata": {
    "slideshow": {
     "slide_type": "slide"
    }
   },
   "source": [
    "## DataFrames as HTML"
   ]
  },
  {
   "cell_type": "markdown",
   "metadata": {
    "slideshow": {
     "slide_type": "subslide"
    }
   },
   "source": [
    "Pandas also had a `to_html` method that we can use to generate HTML tables from DataFrames."
   ]
  },
  {
   "cell_type": "code",
   "execution_count": null,
   "metadata": {
    "slideshow": {
     "slide_type": "fragment"
    }
   },
   "outputs": [],
   "source": [
    "html_table = df.to_html()\n",
    "html_table"
   ]
  },
  {
   "cell_type": "markdown",
   "metadata": {
    "slideshow": {
     "slide_type": "subslide"
    }
   },
   "source": [
    "You may have to strip unwanted newlines to clean up the table."
   ]
  },
  {
   "cell_type": "code",
   "execution_count": null,
   "metadata": {
    "slideshow": {
     "slide_type": "fragment"
    }
   },
   "outputs": [],
   "source": [
    "html_table.replace('\\n', '')"
   ]
  },
  {
   "cell_type": "markdown",
   "metadata": {
    "slideshow": {
     "slide_type": "subslide"
    }
   },
   "source": [
    "You can also save the table directly to a file."
   ]
  },
  {
   "cell_type": "code",
   "execution_count": null,
   "metadata": {
    "slideshow": {
     "slide_type": "fragment"
    }
   },
   "outputs": [],
   "source": [
    "df.to_html('fish_data.html')"
   ]
  },
  {
   "cell_type": "code",
   "execution_count": null,
   "metadata": {
    "slideshow": {
     "slide_type": "fragment"
    }
   },
   "outputs": [],
   "source": [
    "# OSX Users can run this to open the file in a browser, \n",
    "# or you can manually find the file and open it in the browser\n",
    "!open table.html"
   ]
  }
 ],
 "metadata": {
  "kernelspec": {
   "display_name": "Python 3",
   "language": "python",
   "name": "python3"
  },
  "language_info": {
   "codemirror_mode": {
    "name": "ipython",
    "version": 3
   },
   "file_extension": ".py",
   "mimetype": "text/x-python",
   "name": "python",
   "nbconvert_exporter": "python",
   "pygments_lexer": "ipython3",
   "version": "3.7.4"
  },
  "varInspector": {
   "cols": {
    "lenName": 16,
    "lenType": 16,
    "lenVar": 40
   },
   "kernels_config": {
    "python": {
     "delete_cmd_postfix": "",
     "delete_cmd_prefix": "del ",
     "library": "var_list.py",
     "varRefreshCmd": "print(var_dic_list())"
    },
    "r": {
     "delete_cmd_postfix": ") ",
     "delete_cmd_prefix": "rm(",
     "library": "var_list.r",
     "varRefreshCmd": "cat(var_dic_list()) "
    }
   },
   "types_to_exclude": [
    "module",
    "function",
    "builtin_function_or_method",
    "instance",
    "_Feature"
   ],
   "window_display": false
  }
 },
 "nbformat": 4,
 "nbformat_minor": 2
}
