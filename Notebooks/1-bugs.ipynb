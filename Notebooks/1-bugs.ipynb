{
 "cells": [
  {
   "cell_type": "code",
   "execution_count": null,
   "metadata": {
    "ExecuteTime": {
     "end_time": "2020-05-22T02:22:59.543951Z",
     "start_time": "2020-05-22T02:22:59.119964Z"
    }
   },
   "outputs": [],
   "source": [
    "import pandas as pd\n",
    "import os\n",
    "from config import username, password\n",
    "from sqlalchemy import create_engine"
   ]
  },
  {
   "cell_type": "markdown",
   "metadata": {
    "slideshow": {
     "slide_type": "slide"
    }
   },
   "source": [
    "# Scraping with Pandas"
   ]
  },
  {
   "cell_type": "markdown",
   "metadata": {
    "slideshow": {
     "slide_type": "subslide"
    }
   },
   "source": [
    "We can use the `read_html` function in Pandas to automatically scrape any tabular data from a page."
   ]
  },
  {
   "cell_type": "code",
   "execution_count": null,
   "metadata": {
    "ExecuteTime": {
     "end_time": "2020-05-22T02:22:59.547674Z",
     "start_time": "2020-05-22T02:22:59.545759Z"
    },
    "slideshow": {
     "slide_type": "fragment"
    }
   },
   "outputs": [],
   "source": [
    "url = 'https://animalcrossing.fandom.com/wiki/Bugs_(New_Horizons)'"
   ]
  },
  {
   "cell_type": "code",
   "execution_count": null,
   "metadata": {
    "ExecuteTime": {
     "end_time": "2020-05-22T02:23:00.406691Z",
     "start_time": "2020-05-22T02:22:59.550370Z"
    },
    "slideshow": {
     "slide_type": "fragment"
    }
   },
   "outputs": [],
   "source": [
    "# Reading url table into a df\n",
    "tables = pd.read_html(url)\n",
    "tables[3]"
   ]
  },
  {
   "cell_type": "markdown",
   "metadata": {},
   "source": [
    "## Data Transformation"
   ]
  },
  {
   "cell_type": "code",
   "execution_count": null,
   "metadata": {
    "ExecuteTime": {
     "end_time": "2020-05-22T02:23:00.426840Z",
     "start_time": "2020-05-22T02:23:00.408489Z"
    },
    "scrolled": true,
    "slideshow": {
     "slide_type": "fragment"
    }
   },
   "outputs": [],
   "source": [
    "# storing the third table from the url in a df\n",
    "df = tables[3]\n",
    "\n",
    "# deleting the image column\n",
    "del df['Image']\n",
    "\n",
    "# displaying the df\n",
    "df"
   ]
  },
  {
   "cell_type": "code",
   "execution_count": null,
   "metadata": {
    "ExecuteTime": {
     "end_time": "2020-05-22T02:23:00.473623Z",
     "start_time": "2020-05-22T02:23:00.432712Z"
    }
   },
   "outputs": [],
   "source": [
    "# Replacing check marks with True and minus signs with False\n",
    "df[\"Jan\"] = df[\"Jan\"].replace(\"✓\", True).replace(\"-\", False)\n",
    "df[\"Feb\"] = df[\"Feb\"].replace(\"✓\", True).replace(\"-\", False)\n",
    "df[\"Mar\"] = df[\"Mar\"].replace(\"✓\", True).replace(\"-\", False)\n",
    "df[\"Apr\"] = df[\"Apr\"].replace(\"✓\", True).replace(\"-\", False)\n",
    "df[\"May\"] = df[\"May\"].replace(\"✓\", True).replace(\"-\", False)\n",
    "df[\"Jun\"] = df[\"Jun\"].replace(\"✓\", True).replace(\"-\", False)\n",
    "df[\"Jul\"] = df[\"Jul\"].replace(\"✓\", True).replace(\"-\", False)\n",
    "df[\"Aug\"] = df[\"Aug\"].replace(\"✓\", True).replace(\"-\", False)\n",
    "df[\"Sep\"] = df[\"Sep\"].replace(\"✓\", True).replace(\"-\", False)\n",
    "df[\"Oct\"] = df[\"Oct\"].replace(\"✓\", True).replace(\"-\", False)\n",
    "df[\"Nov\"] = df[\"Nov\"].replace(\"✓\", True).replace(\"-\", False)\n",
    "df[\"Dec\"] = df[\"Dec\"].replace(\"✓\", True).replace(\"-\", False)\n",
    "\n",
    "# Capitalizing the name column\n",
    "df[\"Name\"] = df[\"Name\"].str.title()\n",
    "\n",
    "#Remove apostophes from bug names\n",
    "df[\"Name\"] = df[\"Name\"].replace(\"Rajah Brooke'S Birdwing\",\"Rajah Brookes Birdwing\")\n",
    "df[\"Name\"] = df[\"Name\"].replace(\"Queen Alexandra'S Birdwing\",\"Queen Alexandras Birdwing\")\n",
    "\n",
    "\n",
    "\n",
    "# Displaying df\n",
    "df\n",
    "    "
   ]
  },
  {
   "cell_type": "markdown",
   "metadata": {},
   "source": [
    "## Bug ID DF\n"
   ]
  },
  {
   "cell_type": "code",
   "execution_count": null,
   "metadata": {
    "ExecuteTime": {
     "end_time": "2020-05-22T02:23:00.488173Z",
     "start_time": "2020-05-22T02:23:00.481547Z"
    }
   },
   "outputs": [],
   "source": [
    "# Reading id csv \n",
    "filepath = os.path.join(\"..\", \"Resources\", \"ids.csv\")\n",
    "\n",
    "# Reading csv into a df\n",
    "id_df = pd.read_csv(filepath)\n",
    "\n",
    "# Filtering id df to only contain Bugs \n",
    "bug_id = id_df.loc[id_df['Type']=='Bug']"
   ]
  },
  {
   "cell_type": "markdown",
   "metadata": {},
   "source": [
    "## Merge ID and Bug DF"
   ]
  },
  {
   "cell_type": "code",
   "execution_count": null,
   "metadata": {
    "ExecuteTime": {
     "end_time": "2020-05-22T02:23:00.518786Z",
     "start_time": "2020-05-22T02:23:00.490073Z"
    }
   },
   "outputs": [],
   "source": [
    "# Merging bug id's and the original df\n",
    "bug_id_merge = df.merge(bug_id[[\"ID\",\"Type\",\"Name\"]],on='Name',how='left')\n",
    "\n",
    "#Set all columns to lowercase\n",
    "bug_id_merge.columns = bug_id_merge.columns.str.lower()\n",
    "\n",
    "# Setting index to the id\n",
    "bug_id_merge = bug_id_merge.set_index(\"id\")\n",
    "\n",
    "#Reorder columns\n",
    "bug_id_merge = bug_id_merge[['name', 'price', 'type', 'location', 'time', 'jan', 'feb', 'mar', 'apr', 'may', 'jun', 'jul', 'aug', 'sep', 'oct', 'nov', 'dec']]\n",
    "\n",
    "# Displaying the df\n",
    "bug_id_merge"
   ]
  },
  {
   "cell_type": "code",
   "execution_count": null,
   "metadata": {
    "ExecuteTime": {
     "end_time": "2020-05-22T02:23:00.529340Z",
     "start_time": "2020-05-22T02:23:00.520341Z"
    }
   },
   "outputs": [],
   "source": [
    "bug_id"
   ]
  },
  {
   "cell_type": "markdown",
   "metadata": {},
   "source": [
    "## Splitting tables"
   ]
  },
  {
   "cell_type": "code",
   "execution_count": null,
   "metadata": {
    "ExecuteTime": {
     "end_time": "2020-05-22T02:23:00.540422Z",
     "start_time": "2020-05-22T02:23:00.530594Z"
    }
   },
   "outputs": [],
   "source": [
    "# Creating a df for the fish \n",
    "bug_df = bug_id_merge.iloc[:,:4]\n",
    "\n",
    "# Displaying the fish df\n",
    "bug_df"
   ]
  },
  {
   "cell_type": "code",
   "execution_count": null,
   "metadata": {
    "ExecuteTime": {
     "end_time": "2020-05-22T02:23:00.559784Z",
     "start_time": "2020-05-22T02:23:00.541797Z"
    }
   },
   "outputs": [],
   "source": [
    "# Creating a df for the months fish are available\n",
    "bug_months_df = bug_id_merge.iloc[:,5:]\n",
    "\n",
    "# Displaying fish months df\n",
    "bug_months_df"
   ]
  },
  {
   "cell_type": "code",
   "execution_count": null,
   "metadata": {
    "ExecuteTime": {
     "end_time": "2020-05-22T02:23:00.570157Z",
     "start_time": "2020-05-22T02:23:00.561466Z"
    }
   },
   "outputs": [],
   "source": [
    "# Creating a df for the months fish are available\n",
    "bug_time_df = bug_id_merge.iloc[:,4:5]\n",
    "\n",
    "# Displaying fish months df\n",
    "bug_time_df"
   ]
  },
  {
   "cell_type": "markdown",
   "metadata": {
    "ExecuteTime": {
     "end_time": "2020-05-21T23:13:53.055161Z",
     "start_time": "2020-05-21T23:13:53.053255Z"
    }
   },
   "source": [
    "## Create database connection"
   ]
  },
  {
   "cell_type": "code",
   "execution_count": null,
   "metadata": {
    "ExecuteTime": {
     "end_time": "2020-05-22T02:23:00.603257Z",
     "start_time": "2020-05-22T02:23:00.571519Z"
    }
   },
   "outputs": [],
   "source": [
    "# Creaate connection\n",
    "connection_string = f\"{username}:{password}@localhost:5432/ACNH_Critterpedia\"\n",
    "engine = create_engine(f'postgresql://{connection_string}')"
   ]
  },
  {
   "cell_type": "code",
   "execution_count": null,
   "metadata": {
    "ExecuteTime": {
     "end_time": "2020-05-22T02:23:00.617738Z",
     "start_time": "2020-05-22T02:23:00.604688Z"
    }
   },
   "outputs": [],
   "source": [
    "# Confirm tables\n",
    "engine.table_names()"
   ]
  },
  {
   "cell_type": "code",
   "execution_count": null,
   "metadata": {
    "ExecuteTime": {
     "end_time": "2020-05-22T02:23:00.666165Z",
     "start_time": "2020-05-22T02:23:00.619354Z"
    }
   },
   "outputs": [],
   "source": [
    "bug_df.to_sql(name='encyclopedia', con=engine, if_exists='append', index=True)\n",
    "bug_months_df.to_sql(name='months', con=engine, if_exists='append', index=True)\n",
    "bug_time_df.to_sql(name='times', con=engine, if_exists='append', index=True)"
   ]
  }
 ],
 "metadata": {
  "kernelspec": {
   "display_name": "Python 3",
   "language": "python",
   "name": "python3"
  },
  "language_info": {
   "codemirror_mode": {
    "name": "ipython",
    "version": 3
   },
   "file_extension": ".py",
   "mimetype": "text/x-python",
   "name": "python",
   "nbconvert_exporter": "python",
   "pygments_lexer": "ipython3",
   "version": "3.6.10"
  },
  "varInspector": {
   "cols": {
    "lenName": 16,
    "lenType": 16,
    "lenVar": 40
   },
   "kernels_config": {
    "python": {
     "delete_cmd_postfix": "",
     "delete_cmd_prefix": "del ",
     "library": "var_list.py",
     "varRefreshCmd": "print(var_dic_list())"
    },
    "r": {
     "delete_cmd_postfix": ") ",
     "delete_cmd_prefix": "rm(",
     "library": "var_list.r",
     "varRefreshCmd": "cat(var_dic_list()) "
    }
   },
   "types_to_exclude": [
    "module",
    "function",
    "builtin_function_or_method",
    "instance",
    "_Feature"
   ],
   "window_display": false
  }
 },
 "nbformat": 4,
 "nbformat_minor": 2
}
